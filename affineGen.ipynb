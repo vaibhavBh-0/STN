{
  "nbformat": 4,
  "nbformat_minor": 0,
  "metadata": {
    "colab": {
      "name": "affineGen.ipynb",
      "provenance": [],
      "collapsed_sections": []
    },
    "kernelspec": {
      "name": "python3",
      "display_name": "Python 3"
    }
  },
  "cells": [
    {
      "cell_type": "code",
      "metadata": {
        "id": "8nm4TYDMnuZT"
      },
      "source": [
        "import numpy as np\n",
        "from math import *\n",
        "\n",
        "from tensorflow import keras\n",
        "import os\n",
        "\n",
        "from PIL import Image\n",
        "import progressbar\n",
        "\n",
        "import shutil"
      ],
      "execution_count": 1,
      "outputs": []
    },
    {
      "cell_type": "code",
      "metadata": {
        "colab": {
          "base_uri": "https://localhost:8080/"
        },
        "id": "cDg1o9minxks",
        "outputId": "761240d2-eb5c-4413-e542-d664a68017ef"
      },
      "source": [
        "print(\"Starting Dir {}\".format(os.getcwd()))\n",
        "os.mkdir('affineMNIST')\n",
        "os.chdir('affineMNIST')\n",
        "[os.mkdir(str(classes)) for classes in range(10)]\n",
        "print(\"Current Dir {}\".format(os.getcwd()))"
      ],
      "execution_count": 2,
      "outputs": [
        {
          "output_type": "stream",
          "text": [
            "Starting Dir /content\n",
            "Current Dir /content/affineMNIST\n"
          ],
          "name": "stdout"
        }
      ]
    },
    {
      "cell_type": "code",
      "metadata": {
        "colab": {
          "base_uri": "https://localhost:8080/"
        },
        "id": "NLNTGcbQnydL",
        "outputId": "766165cf-758c-47b2-e1b1-f5aea08b69f1"
      },
      "source": [
        "(xTrain, yTrain), (xTest, yTest) = keras.datasets.mnist.load_data()"
      ],
      "execution_count": 3,
      "outputs": [
        {
          "output_type": "stream",
          "text": [
            "Downloading data from https://storage.googleapis.com/tensorflow/tf-keras-datasets/mnist.npz\n",
            "11493376/11490434 [==============================] - 0s 0us/step\n"
          ],
          "name": "stdout"
        }
      ]
    },
    {
      "cell_type": "code",
      "metadata": {
        "id": "3AqyMBN9n2bz"
      },
      "source": [
        "def augmentDimsBy(inc, image):\n",
        "  dim = image.shape[0]\n",
        "  paddedImage = image\n",
        "  count = 0\n",
        "  for i in range(2*inc):\n",
        "    if i%2 == 0:\n",
        "      paddedImage = np.append(paddedImage, np.zeros((dim + i%2 + count, 1)), axis = 1)\n",
        "      paddedImage = np.rot90(paddedImage)\n",
        "      \n",
        "      paddedImage = np.append(paddedImage, np.zeros((dim + (i+1)%2 + count,1)), axis = 1)\n",
        "      paddedImage = np.rot90(paddedImage)\n",
        "\n",
        "      count += 1\n",
        "  \n",
        "  if inc %2 != 0:\n",
        "    paddedImage = np.rot90(paddedImage, k = 2)\n",
        "\n",
        "  return paddedImage"
      ],
      "execution_count": 4,
      "outputs": []
    },
    {
      "cell_type": "code",
      "metadata": {
        "id": "-R8jTAKpoCsO"
      },
      "source": [
        "def generatePointsAndValuesOfInterest(img):\n",
        "  pointsAndValues = np.reshape([0,0,0], (1,3))\n",
        "  dim = img.shape[0]\n",
        "  for i in range(dim):\n",
        "    for j in range(dim):\n",
        "      if img[i,j] > 0.0:\n",
        "        pointAndValue = np.reshape([i,j,img[i,j]],(1,3))\n",
        "        pointsAndValues = np.concatenate([pointsAndValues, pointAndValue])\n",
        "\n",
        "  pointsAndValues = np.delete(pointsAndValues,[0], axis = 0).T\n",
        "\n",
        "  return pointsAndValues"
      ],
      "execution_count": 5,
      "outputs": []
    },
    {
      "cell_type": "code",
      "metadata": {
        "id": "FNqetkhLoFWi"
      },
      "source": [
        "def transformPoints(points,parameters = np.eye(3)[:-1].T):\n",
        "  affinePoints = np.matmul(parameters,points)\n",
        "  \n",
        "  affineX, affineY = np.append([],affinePoints[0]), np.append([],affinePoints[1])\n",
        "  affineX, affineY = np.append(affineX,affineX[0]), np.append(affineY,affineY[0])\n",
        "\n",
        "  return affineX,affineY, affinePoints"
      ],
      "execution_count": 6,
      "outputs": []
    },
    {
      "cell_type": "code",
      "metadata": {
        "id": "SIHKNDu7oIWS"
      },
      "source": [
        "def interpolateForPoints(x,y):\n",
        "  xFloor, yFloor = floor(x), floor(y)\n",
        "  xFract, yFract = x - xFloor,y - yFloor\n",
        "\n",
        "  setOfPoints = {(xFloor, yFloor)}\n",
        "\n",
        "  if False == (xFract == 0.0 and yFract == 0.0):\n",
        "    if xFract > 0.0:\n",
        "      setOfPoints.add((round(x),yFloor))\n",
        "    if yFract > 0.0:\n",
        "      setOfPoints.add((xFloor,round(y)))\n",
        "    if xFract > 0.0 and yFract > 0.0:\n",
        "      setOfPoints.add((round(x),round(y)))\n",
        "\n",
        "  return setOfPoints"
      ],
      "execution_count": 7,
      "outputs": []
    },
    {
      "cell_type": "code",
      "metadata": {
        "id": "JTmTlPxZoLPm"
      },
      "source": [
        "def produceAffineImage(dim,affinePointsAndValues):\n",
        "  affineImage = np.zeros((dim,dim))\n",
        "  indexForValue = 0\n",
        "  affineValues = affinePointsAndValues[-1:]\n",
        "  affineXs = affinePointsAndValues[0:1][0]\n",
        "  affineYs = affinePointsAndValues[1:2][0]\n",
        "  values = np.nditer(affineValues)\n",
        "\n",
        "  for value in values:\n",
        "  ### interpolation with equal distribution to smoothen the image\n",
        "    interplolatedPoints = interpolateForPoints(affineXs[indexForValue], affineYs[indexForValue])\n",
        "    for (i,j) in interplolatedPoints:\n",
        "      if i >= 0 and j >= 0 and i <dim and j < dim:\n",
        "        affineImage[int(i),int(j)] = value  # values are overwritten if they repeat across values\n",
        "\n",
        "    indexForValue += 1\n",
        "\n",
        "  return affineImage"
      ],
      "execution_count": 8,
      "outputs": []
    },
    {
      "cell_type": "code",
      "metadata": {
        "id": "TKDsui7XoOQT"
      },
      "source": [
        "def writeImage(img, filename):\n",
        "  pillowImage = Image.fromarray(img)\n",
        "  pillowImage = pillowImage.convert(\"L\")\n",
        "  pillowImage.save(filename)"
      ],
      "execution_count": 9,
      "outputs": []
    },
    {
      "cell_type": "code",
      "metadata": {
        "id": "XM7YIRC2oQ2B"
      },
      "source": [
        "def zipDir():\n",
        "  os.chdir('/content')\n",
        "  print(\"File path selected {}\".format(os.getcwd()))\n",
        "  print(\"Archiving images in progress...\")\n",
        "  #shutil.make_archive('affineMNIST', 'zip', '/content/affineMNIST')\n",
        "  shutil.make_archive(base_name= 'affineMNIST', format='zip', root_dir= 'affineMNIST')\n",
        "  print(\"Archiving completed\")"
      ],
      "execution_count": 10,
      "outputs": []
    },
    {
      "cell_type": "code",
      "metadata": {
        "id": "xzj_cBw5oTdf"
      },
      "source": [
        "def generateDataset():\n",
        "  index = 0\n",
        "  widgets = ['Saving dataset : ', progressbar.AnimatedMarker()] \n",
        "  bar = progressbar.ProgressBar(widgets=widgets)\n",
        "  \n",
        "  indices = yTrain.size\n",
        "  for img, label in zip(xTrain, yTrain):\n",
        "    paddedImage = augmentDimsBy(21, img)\n",
        "    identityParams = np.eye(3)[:-1]\n",
        "    affineParams = identityParams + (np.random.random(6).reshape(2,-1) - 0.5)/3.5\n",
        "    pointsAndValues = generatePointsAndValuesOfInterest(paddedImage)\n",
        "    points = np.concatenate([pointsAndValues[:1], pointsAndValues[1:2], np.ones_like(pointsAndValues[:1])], axis = 0)\n",
        "    _,_,affinePoints = transformPoints(points,affineParams)\n",
        "    affinePointsAndValues = np.concatenate([affinePoints,pointsAndValues[-1:]])\n",
        "    \n",
        "    affineImage = produceAffineImage(dim = paddedImage.shape[0],affinePointsAndValues = affinePointsAndValues)\n",
        "    filename = str(label) + '_' + str(index) + '.png'\n",
        "\n",
        "    os.chdir(str(label))\n",
        "    writeImage(affineImage,filename)\n",
        "    os.chdir('../')\n",
        "    bar.update(float(index)/indices)\n",
        "    index += 1\n",
        "\n",
        "  zipDir()"
      ],
      "execution_count": 11,
      "outputs": []
    },
    {
      "cell_type": "code",
      "metadata": {
        "colab": {
          "base_uri": "https://localhost:8080/"
        },
        "id": "oK-WllSroWVZ",
        "outputId": "12869c06-39a5-44f7-c12f-b621bf5aea4b"
      },
      "source": [
        "generateDataset()"
      ],
      "execution_count": 12,
      "outputs": [
        {
          "output_type": "stream",
          "text": [
            "Saving dataset : /                                                             "
          ],
          "name": "stderr"
        },
        {
          "output_type": "stream",
          "text": [
            "File path selected /content\n",
            "Archiving images in progress...\n",
            "Archiving completed\n"
          ],
          "name": "stdout"
        }
      ]
    }
  ]
}